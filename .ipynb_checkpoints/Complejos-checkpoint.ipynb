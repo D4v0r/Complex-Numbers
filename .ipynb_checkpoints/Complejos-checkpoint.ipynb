{
 "cells": [
  {
   "cell_type": "markdown",
   "metadata": {},
   "source": [
    "#  Librería computación Cuántica: Números complejos"
   ]
  },
  {
   "cell_type": "markdown",
   "metadata": {},
   "source": []
  },
  {
   "cell_type": "code",
   "execution_count": 91,
   "metadata": {},
   "outputs": [],
   "source": [
    "import numpy as np\n",
    "from matplotlib import pyplot as plt\n",
    "from math import sqrt, cos, sin, atan2, atan, pi"
   ]
  },
  {
   "cell_type": "markdown",
   "metadata": {},
   "source": [
    "## Operaciones Básicas de Complejos\n",
    "\n",
    "1. Suma.\n",
    "2. Producto.\n",
    "3. Resta.\n",
    "4. División.\n",
    "5. Módulo.\n",
    "6. Conjugado.\n",
    "7. Conversión entre representaciones polar y cartesiano.\n",
    "8. Retornar la fase de un número complejo.\n"
   ]
  },
  {
   "cell_type": "code",
   "execution_count": 151,
   "metadata": {},
   "outputs": [],
   "source": [
    "#1\n",
    "def suma(c1, c2):\n",
    "    ''' Esta función realiza la suma de dos números complejos c1 y c2 en notación rectangular.\n",
    "        a: Parte Real\n",
    "        b: Parte Imaginaria\n",
    "        (a, b) + (c, d) --> (e, f)'''\n",
    "    \n",
    "    a, b = c1\n",
    "    c, d = c2\n",
    "    return (round(float(a + c), 2), round(float(b + d), 2))"
   ]
  },
  {
   "cell_type": "code",
   "execution_count": 152,
   "metadata": {},
   "outputs": [
    {
     "data": {
      "text/plain": [
       "(4.0, 6.0)"
      ]
     },
     "execution_count": 152,
     "metadata": {},
     "output_type": "execute_result"
    }
   ],
   "source": [
    "suma((1,2), (3,4))\n"
   ]
  },
  {
   "cell_type": "code",
   "execution_count": 100,
   "metadata": {},
   "outputs": [],
   "source": [
    "#2\n",
    "def producto(c1, c2):\n",
    "    '''Esta función realiza el producto de dos números complejos c1 y c2 en notación rectangular.\n",
    "       a: Parte Real\n",
    "       b: Parte Imaginaria\n",
    "       (a, b) * (c, d) --> (e, f)'''\n",
    "    \n",
    "    a, b = c1\n",
    "    c, d = c2\n",
    "    return (round(float(a * c - b * d),2), round(float(a * d + b * c)), 2)"
   ]
  },
  {
   "cell_type": "code",
   "execution_count": 101,
   "metadata": {},
   "outputs": [
    {
     "data": {
      "text/plain": [
       "(-5.0, 10.0)"
      ]
     },
     "execution_count": 101,
     "metadata": {},
     "output_type": "execute_result"
    }
   ],
   "source": [
    "producto((1,2), (3,4))"
   ]
  },
  {
   "cell_type": "code",
   "execution_count": 153,
   "metadata": {},
   "outputs": [],
   "source": [
    "#3\n",
    "def resta(c1, c2):\n",
    "    '''Esta función realiza la resta de dos números complejos c1 y c2 en notación rectangular.\n",
    "       a: Parte Real\n",
    "       b: Parte Imamginaria\n",
    "       (a, b) - (c, d) --> (e, f)'''\n",
    "    \n",
    "    a, b = c1\n",
    "    c, d = c2\n",
    "    return (round(float(a - c),2),  round(float(b - d), 2))"
   ]
  },
  {
   "cell_type": "code",
   "execution_count": 154,
   "metadata": {},
   "outputs": [],
   "source": [
    "#4\n",
    "def division(c1, c2):\n",
    "    '''Esta función realiza la división de dos números complejos c1 y c2 en notación rectangular.\n",
    "       a, c: Parte Real\n",
    "       b, d: Parte Imaginaria\n",
    "       (a, b) / (c, d) --> (e, f)'''\n",
    "    \n",
    "    a, b = c1\n",
    "    c, d = c2\n",
    "    try:\n",
    "        return (round(float((a*c + b*d)) / float((c**2 + d**2)), 2) , round(float((c*b - a*d)) / float((c**2 + d**2)),  2))\n",
    "    \n",
    "    except ZeroDivisionError:\n",
    "        print('Operación indefinida a / 0')\n",
    "        "
   ]
  },
  {
   "cell_type": "code",
   "execution_count": 155,
   "metadata": {},
   "outputs": [
    {
     "name": "stdout",
     "output_type": "stream",
     "text": [
      "Operación indefinida a / 0\n"
     ]
    }
   ],
   "source": [
    "division((1, 2),(0, 0))\n"
   ]
  },
  {
   "cell_type": "code",
   "execution_count": 156,
   "metadata": {},
   "outputs": [],
   "source": [
    "#5\n",
    "def modulo(c1):\n",
    "    '''Esta función realiza el módulo de un número complejo c1 en notación rectangular.\n",
    "       a: Parte Real\n",
    "       b: Parte Imaginaria\n",
    "       m: Módulo Real+\n",
    "       |c1| --> m '''\n",
    "    \n",
    "    a, b = c1\n",
    "    return sqrt(a**2 + b**2)"
   ]
  },
  {
   "cell_type": "code",
   "execution_count": 157,
   "metadata": {},
   "outputs": [
    {
     "data": {
      "text/plain": [
       "5.0"
      ]
     },
     "execution_count": 157,
     "metadata": {},
     "output_type": "execute_result"
    }
   ],
   "source": [
    "modulo((4,-3))"
   ]
  },
  {
   "cell_type": "code",
   "execution_count": 158,
   "metadata": {},
   "outputs": [],
   "source": [
    "#6\n",
    "def conjugado(c1):\n",
    "    '''Esta función realiza el conjugado de un número complejo c1 en notación rectangular.\n",
    "       a: Parte Real\n",
    "       b: Parte Imaginaria\n",
    "       z: conjugado de c1\n",
    "       (a, b) --> z = (a, -b)'''\n",
    "    \n",
    "    a, b = c1\n",
    "    return (round(float(a), 2), round(float(-1 * b), 2))"
   ]
  },
  {
   "cell_type": "code",
   "execution_count": 107,
   "metadata": {},
   "outputs": [
    {
     "data": {
      "text/plain": [
       "(3.0, -2.0)"
      ]
     },
     "execution_count": 107,
     "metadata": {},
     "output_type": "execute_result"
    }
   ],
   "source": [
    "conjugado((3, 2))"
   ]
  },
  {
   "cell_type": "code",
   "execution_count": 108,
   "metadata": {},
   "outputs": [],
   "source": [
    "#7\n",
    "def convertir_cartesiana(c1):\n",
    "    '''Esta función realiza la conversión de un número complejo c1 en notación polar a notación cartesiana.\n",
    "       m: Módulo\n",
    "       o: Angulo\n",
    "       a: Parte Real\n",
    "       b: Parte Imaginaria '''\n",
    "    \n",
    "    m, o = c1\n",
    "    a = round(m * cos(o), 2)\n",
    "    b = round(m * sin(o), 2)\n",
    "    return (a, b)"
   ]
  },
  {
   "cell_type": "code",
   "execution_count": 16,
   "metadata": {},
   "outputs": [
    {
     "data": {
      "text/plain": [
       "(-5.0, -5.0)"
      ]
     },
     "execution_count": 16,
     "metadata": {},
     "output_type": "execute_result"
    }
   ],
   "source": [
    "convertir_cartesiana((7.0710678118654755, -2.356194490192345))"
   ]
  },
  {
   "cell_type": "code",
   "execution_count": 109,
   "metadata": {},
   "outputs": [],
   "source": [
    "#7\n",
    "def convertir_polar(c1):\n",
    "    '''Esta función realiza la conversión de un número complejo c1 en notación cartesiana a notación polar.\n",
    "       m: Módulo\n",
    "       o: Angulo\n",
    "       a: Parte Real\n",
    "       b: Parte Imaginaria '''\n",
    "    a, b = c1\n",
    "    m = modulo(c1)\n",
    "    try:\n",
    "        o = atan2(b , a)\n",
    "        return (m, o)\n",
    "    \n",
    "    except ZeroDivisionError:\n",
    "        print('Operación indefinida a / 0')\n",
    "        "
   ]
  },
  {
   "cell_type": "code",
   "execution_count": 110,
   "metadata": {},
   "outputs": [
    {
     "data": {
      "text/plain": [
       "(7.0710678118654755, -2.356194490192345)"
      ]
     },
     "execution_count": 110,
     "metadata": {},
     "output_type": "execute_result"
    }
   ],
   "source": [
    "convertir_polar((-5.0, -5.0))"
   ]
  },
  {
   "cell_type": "code",
   "execution_count": 111,
   "metadata": {},
   "outputs": [],
   "source": [
    "def signo(y):\n",
    "    if y >= 0 : return 1\n",
    "    else: return -1"
   ]
  },
  {
   "cell_type": "code",
   "execution_count": 112,
   "metadata": {},
   "outputs": [],
   "source": [
    "#8\n",
    "def fase(c1):\n",
    "    '''Esta funcion retorna la fase de un número complejo c1 si se encuentra en notación cartesiana'''\n",
    "    \n",
    "    a, b = c1\n",
    "    return pi/2 * signo(b) - atan(a / b)"
   ]
  },
  {
   "cell_type": "code",
   "execution_count": 113,
   "metadata": {},
   "outputs": [
    {
     "data": {
      "text/plain": [
       "-2.356194490192345"
      ]
     },
     "execution_count": 113,
     "metadata": {},
     "output_type": "execute_result"
    }
   ],
   "source": [
    "fase((-5, -5))"
   ]
  },
  {
   "cell_type": "markdown",
   "metadata": {},
   "source": [
    "   ## Operaciones con Vectores y Matrices Complejos"
   ]
  },
  {
   "cell_type": "markdown",
   "metadata": {},
   "source": [
    "1. Adición de vectores complejos.\n",
    "2. Inverso aditivo de vectores complejos.\n",
    "3. Multiplicación escalar de vectores complejos.\n",
    "4. Adición de matrices complejos.\n",
    "5. Inverso aditivo de matrices complejos.\n",
    "6. Multiplicación escalar de matrices complejas.\n",
    "7. Matriz transpuesta\n",
    "8. Matriz conjugada\n",
    "9. Matriz adjunta\n",
    "10. Función para calcular la \"acción\" de una matriz sobre un vector.\n",
    "11. Norma de matrices\n",
    "12. Distancia entre matrices\n",
    "13. Revisar si es Hermitian\n",
    "14. Revisar si es Unitaria\n",
    "15. Producto tensor."
   ]
  },
  {
   "cell_type": "code",
   "execution_count": 159,
   "metadata": {},
   "outputs": [],
   "source": [
    "#1\n",
    "def suma_de_vectores(vectorA, vectorB):\n",
    "    if len(vectorA) != len(vectorB): raise 'Esta operacion esta indefinida'\n",
    "    else:\n",
    "        vectorC = []\n",
    "        for elemento in zip(vectorA, vectorB):\n",
    "            vectorC.append(suma(elemento[0], elemento[1]))\n",
    "    return vectorC\n",
    "            "
   ]
  },
  {
   "cell_type": "code",
   "execution_count": 160,
   "metadata": {},
   "outputs": [
    {
     "data": {
      "text/plain": [
       "[(4.0, 6.0)]"
      ]
     },
     "execution_count": 160,
     "metadata": {},
     "output_type": "execute_result"
    }
   ],
   "source": [
    "suma_de_vectores([(1,2)], [(3,4)])\n"
   ]
  },
  {
   "cell_type": "code",
   "execution_count": 161,
   "metadata": {},
   "outputs": [],
   "source": [
    "#2\n",
    "def vector_inverso_aditivo(vectorA):\n",
    "    vectorB = [ (float(vi[0]*-1), float(vi[1]*-1)) for vi in vectorA]\n",
    "    return vectorB\n",
    "\n",
    "    "
   ]
  },
  {
   "cell_type": "code",
   "execution_count": 162,
   "metadata": {},
   "outputs": [
    {
     "data": {
      "text/plain": [
       "[(-4.0, -6.0), (-5.0, -7.0)]"
      ]
     },
     "execution_count": 162,
     "metadata": {},
     "output_type": "execute_result"
    }
   ],
   "source": [
    "vector_inverso_aditivo([(4, 6), (5, 7)])\n"
   ]
  },
  {
   "cell_type": "code",
   "execution_count": 163,
   "metadata": {},
   "outputs": [],
   "source": [
    "#3\n",
    "def vector_x_escalar(vectorA, escalar):\n",
    "    vectorB = [ producto(elemento, (escalar, 0)) for elemento in vectorA]\n",
    "    return vectorB\n"
   ]
  },
  {
   "cell_type": "code",
   "execution_count": 164,
   "metadata": {},
   "outputs": [
    {
     "data": {
      "text/plain": [
       "[(-8.0, -12.0), (-10.0, -14.0)]"
      ]
     },
     "execution_count": 164,
     "metadata": {},
     "output_type": "execute_result"
    }
   ],
   "source": [
    "vector_x_escalar([(-4, -6), (-5, -7)], 2)\n"
   ]
  },
  {
   "cell_type": "code",
   "execution_count": 165,
   "metadata": {},
   "outputs": [],
   "source": [
    "#4\n",
    "def suma_de_matrices(matrizA, matrizB):\n",
    "    if len(matrizA) != len(matrizB): raise 'Operacion Indefinida'\n",
    "    else:\n",
    "        matrizC = []\n",
    "        for elemento in zip(matrizA, matrizB):\n",
    "            matrizC.append(suma_de_vectores(elemento[0], elemento[1]))\n",
    "    return matrizC"
   ]
  },
  {
   "cell_type": "code",
   "execution_count": 124,
   "metadata": {},
   "outputs": [
    {
     "data": {
      "text/plain": [
       "[[(4.0, 6.0), (1.0, 1.0)], [(4.0, 6.0), (1.0, 1.0)]]"
      ]
     },
     "execution_count": 124,
     "metadata": {},
     "output_type": "execute_result"
    }
   ],
   "source": [
    "suma_de_matrices([[(1,2), (1, 1)],[(3,4), (0,0)]],[[(3,4), (0, 0)],[(1,2), (1,1)]])\n"
   ]
  },
  {
   "cell_type": "code",
   "execution_count": 167,
   "metadata": {},
   "outputs": [],
   "source": [
    "#5\n",
    "def matriz_inverso_aditivo(matrizA):\n",
    "    matrizB = [ vector_inverso_aditivo(vector) for vector in matrizA]\n",
    "    return matrizB\n"
   ]
  },
  {
   "cell_type": "code",
   "execution_count": 126,
   "metadata": {},
   "outputs": [
    {
     "data": {
      "text/plain": [
       "[[(-4.0, -6.0), (-1.0, -1.0)], [(-4.0, -6.0), (-1.0, -1.0)]]"
      ]
     },
     "execution_count": 126,
     "metadata": {},
     "output_type": "execute_result"
    }
   ],
   "source": [
    "matriz_inverso_aditivo([[(4, 6), (1, 1)], [(4, 6), (1, 1)]])"
   ]
  },
  {
   "cell_type": "code",
   "execution_count": 169,
   "metadata": {},
   "outputs": [],
   "source": [
    "#6\n",
    "def matriz_x_escalar(matrizA, escalar):\n",
    "    matrizB = [vector_x_escalar(vector, escalar) for vector in matrizA]\n",
    "    return matrizB"
   ]
  },
  {
   "cell_type": "code",
   "execution_count": 128,
   "metadata": {},
   "outputs": [
    {
     "data": {
      "text/plain": [
       "[[(0.0, 0.0), (0.0, 0.0)], [(0.0, 0.0), (0.0, 0.0)]]"
      ]
     },
     "execution_count": 128,
     "metadata": {},
     "output_type": "execute_result"
    }
   ],
   "source": [
    "matriz_x_escalar([[(-4, -6), (-1, -1)], [(-4, -6), (-1, -1)]], 0)"
   ]
  },
  {
   "cell_type": "code",
   "execution_count": 170,
   "metadata": {},
   "outputs": [],
   "source": [
    "#7\n",
    "def matriz_transpuesta(matriz):\n",
    "    temp = []\n",
    "    for i in range(len(matriz[0])):\n",
    "        row = []\n",
    "        for j in range(len(matriz)):\n",
    "            row.append(matriz[j][i])\n",
    "        temp.append(row)\n",
    "    return temp\n"
   ]
  },
  {
   "cell_type": "code",
   "execution_count": 171,
   "metadata": {},
   "outputs": [
    {
     "data": {
      "text/plain": [
       "[[(21, 32), (73, -22), (191, 75)],\n",
       " [(10, -71), (-38, 51), (58, 46)],\n",
       " [(-96, -32), (81, 235), (-55, 109)]]"
      ]
     },
     "execution_count": 171,
     "metadata": {},
     "output_type": "execute_result"
    }
   ],
   "source": [
    "matriz_transpuesta([[(21, 32), (10, -71), (-96, -32)],\n",
    "                   [(73, -22), (-38, 51), (81, 235)],\n",
    "                   [(191, 75), (58, 46), (-55, 109)]])"
   ]
  },
  {
   "cell_type": "code",
   "execution_count": 172,
   "metadata": {},
   "outputs": [],
   "source": [
    "#8\n",
    "def matriz_conjugada(matriz):\n",
    "    conjugada = []\n",
    "    for i in range (len(matriz)):\n",
    "        row = []\n",
    "        for j in range (len(matriz[0])):\n",
    "            row.append(conjugado(matriz[i][j]))\n",
    "        conjugada.append(row)\n",
    "    return conjugada\n"
   ]
  },
  {
   "cell_type": "code",
   "execution_count": 173,
   "metadata": {},
   "outputs": [
    {
     "data": {
      "text/plain": [
       "[[(-6.0, -1.0), (3.0, -8.0)], [(2.0, 6.0), (3.0, 0.0)]]"
      ]
     },
     "execution_count": 173,
     "metadata": {},
     "output_type": "execute_result"
    }
   ],
   "source": [
    "matriz_conjugada(\n",
    "                    [\n",
    "                        [(-6, 1), (3, 8)], \n",
    "                        [(2, -6), (3, 0)]\n",
    "                    ]\n",
    "                )"
   ]
  },
  {
   "cell_type": "code",
   "execution_count": 174,
   "metadata": {},
   "outputs": [],
   "source": [
    "#9\n",
    "def matriz_adjunta(matriz):\n",
    "    return matriz_transpuesta(matriz_conjugada(matriz))\n"
   ]
  },
  {
   "cell_type": "code",
   "execution_count": 175,
   "metadata": {},
   "outputs": [
    {
     "data": {
      "text/plain": [
       "[[(7.0, -7.0), (5.0, 0.0)],\n",
       " [(3.0, -8.0), (8.0, 6.0)],\n",
       " [(8.0, -4.0), (-10.0, 1.0)]]"
      ]
     },
     "execution_count": 175,
     "metadata": {},
     "output_type": "execute_result"
    }
   ],
   "source": [
    "matriz_adjunta(\n",
    "                [\n",
    "                    [(7, 7), (3, 8), (8, 4)], \n",
    "                    [(5, 0), (8, -6), (-10, -1)]\n",
    "                ]\n",
    "              )"
   ]
  },
  {
   "cell_type": "code",
   "execution_count": 176,
   "metadata": {},
   "outputs": [],
   "source": [
    "def producto_punto(vectorA, vectorB):\n",
    "    if len(vectorA )!= len(vectorB): raise 'Operacion Indefinida'\n",
    "    else:\n",
    "        sumatoria = (0, 0)\n",
    "        for par in zip(vectorA, vectorB):\n",
    "            sumatoria = suma(sumatoria, producto(par[0], par[1]))\n",
    "        return sumatoria\n"
   ]
  },
  {
   "cell_type": "code",
   "execution_count": 177,
   "metadata": {},
   "outputs": [
    {
     "data": {
      "text/plain": [
       "(-36.0, 11.0)"
      ]
     },
     "execution_count": 177,
     "metadata": {},
     "output_type": "execute_result"
    }
   ],
   "source": [
    "producto_punto([(2,-1), (-8, -5), (-2, -6)], \n",
    "               [(6, -3), (5, -1), (-6, -2)])\n",
    "\n"
   ]
  },
  {
   "cell_type": "code",
   "execution_count": 178,
   "metadata": {},
   "outputs": [],
   "source": [
    "\n",
    "def producto_cruz(matrizA, matrizB):\n",
    "    if len(matrizA[0]) != len(matrizB): raise 'Operacion Indefinida'\n",
    "    else:\n",
    "        matrizC = []\n",
    "        for vector_fila in matrizA:\n",
    "            fila = []\n",
    "            for i in range(len(matrizB[0])):\n",
    "                vector_columna = []\n",
    "                for j in range(len(matrizB)):\n",
    "                    vector_columna.append(matrizB[j][i])  \n",
    "                fila.append(producto_punto(vector_fila, vector_columna))\n",
    "            matrizC.append(fila)\n",
    "        return matrizC\n",
    "    \n",
    "    "
   ]
  },
  {
   "cell_type": "code",
   "execution_count": 179,
   "metadata": {},
   "outputs": [
    {
     "data": {
      "text/plain": [
       "[[(-33.0, 153.0), (120.0, 0.0), (-44.0, -22.0)],\n",
       " [(87.0, 0.0), (-26.0, -117.0), (107.0, 70.0)],\n",
       " [(0.0, 165.0), (147.0, 26.0), (69.0, -36.0)]]"
      ]
     },
     "execution_count": 179,
     "metadata": {},
     "output_type": "execute_result"
    }
   ],
   "source": [
    "producto_cruz(\n",
    "                [ \n",
    "                  [(-6, 2), (0, 6), (7, 2)], \n",
    "                  [(6, 9), (7, 7), (-6, -6)],\n",
    "                  [(5, 8), (-6, 8), (6, 9)]\n",
    "                ], \n",
    "                [\n",
    "                  [(9, -6), (-3, -4), (5, -2)], \n",
    "                  [(3, 6), (-1, -5), (0, -5)], \n",
    "                  [(9, 9), (8, -4), (-8, -4)]\n",
    "                ]\n",
    "              )\n"
   ]
  },
  {
   "cell_type": "code",
   "execution_count": 180,
   "metadata": {},
   "outputs": [],
   "source": [
    "#10\n",
    "def accion_matriz_vector(matriz, vector):\n",
    "    if len(matriz[0]) != len(matriz) != len(vector): raise 'Operacion Indefinida'\n",
    "    else:\n",
    "        accion = []\n",
    "        for fila in matriz:\n",
    "            accion.append(producto_punto(fila, vector))\n",
    "        return accion\n"
   ]
  },
  {
   "cell_type": "code",
   "execution_count": 181,
   "metadata": {},
   "outputs": [
    {
     "data": {
      "text/plain": [
       "[(54.0, -32.0), (0.0, 17.0), (41.0, 30.0)]"
      ]
     },
     "execution_count": 181,
     "metadata": {},
     "output_type": "execute_result"
    }
   ],
   "source": [
    "accion_matriz_vector(\n",
    "                        [\n",
    "                            [(-1, 5), (1, -7), (-6, 3)],\n",
    "                            [(-3, -9), (2, -5), (1, -10)], \n",
    "                            [(-6, 5), (6, -5), (3, -2)]\n",
    "                        ],\n",
    "                        [(1, -3), (4, 3), (-3, 1)]\n",
    "                    )"
   ]
  },
  {
   "cell_type": "code",
   "execution_count": 217,
   "metadata": {},
   "outputs": [],
   "source": [
    "def producto_interno_vectores(vectorA, vectorB):\n",
    "    a = matriz_conjugada([vectorA])\n",
    "    b = matriz_transpuesta([vectorB])\n",
    "    return producto_cruz(a, b)[0]"
   ]
  },
  {
   "cell_type": "code",
   "execution_count": 218,
   "metadata": {},
   "outputs": [
    {
     "data": {
      "text/plain": [
       "[(4.0, 1.0)]"
      ]
     },
     "execution_count": 218,
     "metadata": {},
     "output_type": "execute_result"
    }
   ],
   "source": [
    "producto_interno_vectores(\n",
    "                            [(2,-1), (-8, -5), (-2, -6)], \n",
    "                            [(6, -3), (5, -1), (-6, -2)]\n",
    "                        )"
   ]
  },
  {
   "cell_type": "code",
   "execution_count": 220,
   "metadata": {},
   "outputs": [],
   "source": [
    "def trace(C):\n",
    "    sumatoria = (0, 0)\n",
    "    for i in range(len(C)):\n",
    "        sumatoria = suma(sumatoria, C[i][i])\n",
    "    return sumatoria"
   ]
  },
  {
   "cell_type": "code",
   "execution_count": 231,
   "metadata": {},
   "outputs": [],
   "source": [
    "def producto_interno_matrices(matrizA, matrizB):\n",
    "    if len(matrizA) != len(matrizA[0]) != len(matrizB) != len(matrizB[0]) : raise 'Operacion indefinida para esas matrices'\n",
    "    else:\n",
    "        return trace(producto_cruz(matriz_adjunta(matrizA), matrizB))\n"
   ]
  },
  {
   "cell_type": "code",
   "execution_count": 222,
   "metadata": {},
   "outputs": [],
   "source": [
    "def sng(i):\n",
    "    if i == 0:\n",
    "        sng = 0\n",
    "    else:\n",
    "        sng = 1 if i > 0 else -1\n",
    "    return sng\n",
    "        "
   ]
  },
  {
   "cell_type": "code",
   "execution_count": 235,
   "metadata": {},
   "outputs": [],
   "source": [
    "def square_root(z):\n",
    "    real = z[0]\n",
    "    img = z[1]\n",
    "    norma = modulo(z)\n",
    "    return (round(sqrt((norma + real)/2), 2), round(sng(img)*sqrt((norma - real)/2), 2)) "
   ]
  },
  {
   "cell_type": "code",
   "execution_count": 246,
   "metadata": {},
   "outputs": [],
   "source": [
    "#11\n",
    "def norma_de_matriz(matriz):\n",
    "    if len(matriz) != len(matriz[0]): raise 'Operacion indefinida para esta matriz'\n",
    "    return square_root(producto_interno_matrices(matriz, matriz))\n",
    "\n",
    "    "
   ]
  },
  {
   "cell_type": "code",
   "execution_count": 247,
   "metadata": {},
   "outputs": [
    {
     "data": {
      "text/plain": [
       "(21.82, 0.0)"
      ]
     },
     "execution_count": 247,
     "metadata": {},
     "output_type": "execute_result"
    }
   ],
   "source": [
    "norma_de_matriz([\n",
    "                [(-1, 5), (1, -7), (-6, 3)],\n",
    "                [(-3, -9), (2, -5), (1, -10)], \n",
    "                [(-6, 5), (6, -5), (3, -2)]\n",
    "            ])"
   ]
  },
  {
   "cell_type": "code",
   "execution_count": 248,
   "metadata": {},
   "outputs": [],
   "source": [
    "#12\n",
    "def distancia_entre_matrices(matrizA, matrizB):\n",
    "    return norma_de_matriz(matrizA-matrizB)"
   ]
  },
  {
   "cell_type": "code",
   "execution_count": 182,
   "metadata": {},
   "outputs": [],
   "source": [
    "#13\n",
    "def es_hermitiana(matriz):\n",
    "    if len(matriz) != len(matriz[0]): raise 'Operacion Indefinida para esta Matriz'\n",
    "    return True if matriz == matriz_adjunta(matriz) else False\n"
   ]
  },
  {
   "cell_type": "code",
   "execution_count": 183,
   "metadata": {},
   "outputs": [
    {
     "data": {
      "text/plain": [
       "True"
      ]
     },
     "execution_count": 183,
     "metadata": {},
     "output_type": "execute_result"
    }
   ],
   "source": [
    "es_hermitiana(\n",
    "                [\n",
    "                    [(3,0), (2,-1), (0,-3)], \n",
    "                    [(2,1), (0,0), (1,-1)], \n",
    "                    [(0,3), (1,1), (0,0)]\n",
    "                ]\n",
    "             )"
   ]
  },
  {
   "cell_type": "code",
   "execution_count": 184,
   "metadata": {},
   "outputs": [],
   "source": [
    "#14\n",
    "def es_unitaria(matriz):\n",
    "    if len(matriz) != len(matriz[0]): raise 'Operacion Indefinida para esta Matriz'\n",
    "    identity = [[(float(0), float(0) )for i in range(len(matriz))] for j in range(len(matriz))]\n",
    "    for i in range(len(identity)):\n",
    "        identity[i][i] = (float(1), float(0))\n",
    "    return producto_cruz(matriz, matriz_adjunta(matriz)) == producto_cruz(matriz_adjunta(matriz), matriz) == identity \n"
   ]
  },
  {
   "cell_type": "code",
   "execution_count": 185,
   "metadata": {},
   "outputs": [
    {
     "data": {
      "text/plain": [
       "True"
      ]
     },
     "execution_count": 185,
     "metadata": {},
     "output_type": "execute_result"
    }
   ],
   "source": [
    "es_unitaria(\n",
    "                [\n",
    "                    [(1/(2)**(1/2), 0), (0, 1/(2)**(1/2))], \n",
    "                    [(0, 1/(2)**(1/2)), (1/(2)**(1/2), 0)]\n",
    "                ]\n",
    "            )"
   ]
  },
  {
   "cell_type": "code",
   "execution_count": 265,
   "metadata": {},
   "outputs": [],
   "source": [
    "#15\n",
    "def producto_tensor(A, B):\n",
    "    m, m_ = len(A), len(A[0])\n",
    "    n, n_ = len(B), len(B[0])\n",
    "    C = [[(0, 0) for i in range(m_*n_)] for i in range(m*n)]\n",
    "    for j in range(len(C)):\n",
    "        for k in range(len(C[0])):\n",
    "            try :\n",
    "                C[j][k] = producto(A[j//n][k//m], B[j%n][k%m])\n",
    "            except IndexError:\n",
    "                next\n",
    "    return C\n",
    "                               "
   ]
  },
  {
   "cell_type": "code",
   "execution_count": 268,
   "metadata": {},
   "outputs": [
    {
     "data": {
      "text/plain": [
       "[[(3.0, 2.0),\n",
       "  (1.0, 18.0),\n",
       "  (29.0, -11.0),\n",
       "  (5.0, -1.0),\n",
       "  (19.0, 17.0),\n",
       "  (18.0, -40.0),\n",
       "  (0.0, 2.0),\n",
       "  (-8.0, 6.0),\n",
       "  (14.0, 10.0)],\n",
       " [(26.0, 26.0),\n",
       "  (18.0, 12.0),\n",
       "  (-4.0, 19.0),\n",
       "  (52.0, 0.0),\n",
       "  (30.0, -6.0),\n",
       "  (15.0, 23.0),\n",
       "  (-4.0, 20.0),\n",
       "  (0.0, 12.0),\n",
       "  (-10.0, 4.0)],\n",
       " [(0.0, 0.0),\n",
       "  (3.0, 2.0),\n",
       "  (-12.0, 31.0),\n",
       "  (0.0, 0.0),\n",
       "  (5.0, -1.0),\n",
       "  (19.0, 43.0),\n",
       "  (0.0, 0.0),\n",
       "  (0.0, 2.0),\n",
       "  (-18.0, 4.0)],\n",
       " [(0.0, 0.0),\n",
       "  (0.0, 0.0),\n",
       "  (0.0, 0.0),\n",
       "  (12.0, 0.0),\n",
       "  (36.0, 48.0),\n",
       "  (60.0, -84.0),\n",
       "  (6.0, -3.0),\n",
       "  (30.0, 15.0),\n",
       "  (9.0, -57.0)],\n",
       " [(0.0, 0.0),\n",
       "  (0.0, 0.0),\n",
       "  (0.0, 0.0),\n",
       "  (120.0, 24.0),\n",
       "  (72.0, 0.0),\n",
       "  (24.0, 60.0),\n",
       "  (66.0, -18.0),\n",
       "  (36.0, -18.0),\n",
       "  (27.0, 24.0)],\n",
       " [(0.0, 0.0),\n",
       "  (0.0, 0.0),\n",
       "  (0.0, 0.0),\n",
       "  (0.0, 0.0),\n",
       "  (12.0, 0.0),\n",
       "  (24.0, 108.0),\n",
       "  (0.0, 0.0),\n",
       "  (6.0, -3.0),\n",
       "  (39.0, 48.0)],\n",
       " [(2.0, 0.0),\n",
       "  (6.0, 8.0),\n",
       "  (10.0, -14.0),\n",
       "  (4.0, 4.0),\n",
       "  (-4.0, 28.0),\n",
       "  (48.0, -8.0),\n",
       "  (9.0, 3.0),\n",
       "  (15.0, 45.0),\n",
       "  (66.0, -48.0)],\n",
       " [(20.0, 4.0),\n",
       "  (12.0, 0.0),\n",
       "  (4.0, 10.0),\n",
       "  (32.0, 48.0),\n",
       "  (24.0, 24.0),\n",
       "  (-12.0, 28.0),\n",
       "  (84.0, 48.0),\n",
       "  (54.0, 18.0),\n",
       "  (3.0, 51.0)],\n",
       " [(0.0, 0.0),\n",
       "  (2.0, 0.0),\n",
       "  (4.0, 18.0),\n",
       "  (0.0, 0.0),\n",
       "  (4.0, 4.0),\n",
       "  (-28.0, 44.0),\n",
       "  (0.0, 0.0),\n",
       "  (9.0, 3.0),\n",
       "  (-9.0, 87.0)]]"
      ]
     },
     "execution_count": 268,
     "metadata": {},
     "output_type": "execute_result"
    }
   ],
   "source": [
    "producto_tensor(\n",
    "                    [\n",
    "                        [(3, 2), (5, -1), (0, 2)], \n",
    "                        [(0, 0), (12, 0), (6, -3)], \n",
    "                        [(2, 0), (4, 4), (9, 3)]\n",
    "                    ],\n",
    "                    [\n",
    "                        [(1, 0), (3, 4), (5, -7)],\n",
    "                        [(10, 2), (6, 0), (2, 5)],\n",
    "                        [(0, 0), (1, 0), (2, 9)]\n",
    "                    ]\n",
    "               )"
   ]
  },
  {
   "cell_type": "code",
   "execution_count": 269,
   "metadata": {},
   "outputs": [
    {
     "data": {
      "text/plain": [
       "[[(-3.0, 1.0), (0.0, -4.0), (0.0, 0.0), (0.0, 0.0), (0, 0), (0, 0)],\n",
       " [(-1.0, 5.0), (2.0, 4.0), (0.0, 0.0), (0.0, 0.0), (0, 0), (0, 0)],\n",
       " [(-3.0, -1.0), (2.0, 0.0), (0.0, 0.0), (0.0, 0.0), (0, 0), (0, 0)],\n",
       " [(-1.0, 2.0), (-2.0, -2.0), (-2.0, -1.0), (2.0, -2.0), (0, 0), (0, 0)],\n",
       " [(2.0, 3.0), (3.0, 1.0), (-3.0, 2.0), (-1.0, 3.0), (0, 0), (0, 0)],\n",
       " [(-2.0, 1.0), (1.0, -1.0), (-1.0, -2.0), (1.0, 1.0), (0, 0), (0, 0)]]"
      ]
     },
     "execution_count": 269,
     "metadata": {},
     "output_type": "execute_result"
    }
   ],
   "source": [
    "producto_tensor(\n",
    "                    [\n",
    "                        [(1, 1), (0, 0)], \n",
    "                        [(1, 0), (0, 1)] \n",
    "                        \n",
    "                    ],\n",
    "                    [\n",
    "                        [(-1, 2), (-2, -2), (0, 2)],\n",
    "                        [(2, 3), (3, 1), (2, 2)],\n",
    "                        [(-2, 1), (1, -1), (2, 1)]\n",
    "                    ]\n",
    "               )"
   ]
  },
  {
   "cell_type": "markdown",
   "metadata": {},
   "source": [
    "## Sistemas Dinámicos\n",
    "\n"
   ]
  }
 ],
 "metadata": {
  "kernelspec": {
   "display_name": "Python 3",
   "language": "python",
   "name": "python3"
  },
  "language_info": {
   "codemirror_mode": {
    "name": "ipython",
    "version": 3
   },
   "file_extension": ".py",
   "mimetype": "text/x-python",
   "name": "python",
   "nbconvert_exporter": "python",
   "pygments_lexer": "ipython3",
   "version": "3.7.3"
  }
 },
 "nbformat": 4,
 "nbformat_minor": 2
}
