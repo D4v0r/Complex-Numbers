{
 "cells": [
  {
   "cell_type": "markdown",
   "metadata": {},
   "source": [
    "#  Librería computación Cuántica: Números complejos"
   ]
  },
  {
   "cell_type": "markdown",
   "metadata": {},
   "source": [
    "1. Suma.\n",
    "2. Producto.\n",
    "3. Resta.\n",
    "4. División.\n",
    "5. Módulo.\n",
    "6. Conjugado.\n",
    "7. Conversión entre representaciones polar y cartesiano.\n",
    "8. Retornar la fase de un númeor complejo.\n"
   ]
  },
  {
   "cell_type": "markdown",
   "metadata": {},
   "source": []
  },
  {
   "cell_type": "code",
   "execution_count": 92,
   "metadata": {},
   "outputs": [],
   "source": [
    "import numpy as np\n",
    "from matplotlib import pyplot as plt\n",
    "from math import sqrt, cos, sin, atan2, atan, pi"
   ]
  },
  {
   "cell_type": "code",
   "execution_count": 3,
   "metadata": {},
   "outputs": [],
   "source": [
    "def suma(c1, c2):\n",
    "    ''' Esta función realiza la suma de dos números complejos c1 y c2 en notación rectangular.\n",
    "        a: Parte Real\n",
    "        b: Parte Imaginaria\n",
    "        (a, b) + (c, d) --> (e, f)'''\n",
    "    \n",
    "    a, b = c1\n",
    "    c, d = c2\n",
    "    return (a + c, b + d)"
   ]
  },
  {
   "cell_type": "code",
   "execution_count": 5,
   "metadata": {},
   "outputs": [
    {
     "data": {
      "text/plain": [
       "(4, 6)"
      ]
     },
     "execution_count": 5,
     "metadata": {},
     "output_type": "execute_result"
    }
   ],
   "source": [
    "suma((1,2), (3,4))\n"
   ]
  },
  {
   "cell_type": "code",
   "execution_count": 4,
   "metadata": {},
   "outputs": [],
   "source": [
    "def producto(c1, c2):\n",
    "    '''Esta función realiza el producto de dos números complejos c1 y c2 en notación rectangular.\n",
    "       a: Parte Real\n",
    "       b: Parte Imaginaria\n",
    "       (a, b) * (c, d) --> (e, f)'''\n",
    "    \n",
    "    a, b = c1\n",
    "    c, d = c2\n",
    "    return (a * c - b * d, a * d + b * c)"
   ]
  },
  {
   "cell_type": "code",
   "execution_count": 6,
   "metadata": {},
   "outputs": [
    {
     "data": {
      "text/plain": [
       "(-5, 10)"
      ]
     },
     "execution_count": 6,
     "metadata": {},
     "output_type": "execute_result"
    }
   ],
   "source": [
    "producto((1,2), (3,4))"
   ]
  },
  {
   "cell_type": "code",
   "execution_count": 8,
   "metadata": {},
   "outputs": [],
   "source": [
    "def resta(c1, c2):\n",
    "    '''Esta función realiza la resta de dos números complejos c1 y c2 en notación rectangular.\n",
    "       a: Parte Real\n",
    "       b: Parte Imamginaria\n",
    "       (a, b) - (c, d) --> (e, f)'''\n",
    "    \n",
    "    a, b = c1\n",
    "    c, d = c2\n",
    "    return (a - c,  b - d)"
   ]
  },
  {
   "cell_type": "code",
   "execution_count": 12,
   "metadata": {},
   "outputs": [],
   "source": [
    "def division(c1, c2):\n",
    "    '''Esta función realiza la división de dos números complejos c1 y c2 en notación rectangular.\n",
    "       a, c: Parte Real\n",
    "       b, d: Parte Imaginaria\n",
    "       (a, b) / (c, d) --> (e, f)'''\n",
    "    \n",
    "    a, b = c1\n",
    "    c, d = c2\n",
    "    try:\n",
    "        return ((a*c + b*d) / (c**2 + d**2) , (c*b - a*d) / (c**2 + d**2) )\n",
    "    \n",
    "    except ZeroDivisionError:\n",
    "        print('Operación indefinida a / 0')\n",
    "        "
   ]
  },
  {
   "cell_type": "code",
   "execution_count": 13,
   "metadata": {},
   "outputs": [
    {
     "name": "stdout",
     "output_type": "stream",
     "text": [
      "Operación indefinida a / 0\n"
     ]
    }
   ],
   "source": [
    "division((1, 2),(0, 0))\n"
   ]
  },
  {
   "cell_type": "code",
   "execution_count": 14,
   "metadata": {},
   "outputs": [],
   "source": [
    "def modulo(c1):\n",
    "    '''Esta función realiza el módulo de un número complejo c1 en notación rectangular.\n",
    "       a: Parte Real\n",
    "       b: Parte Imaginaria\n",
    "       m: Módulo Real+\n",
    "       |c1| --> m '''\n",
    "    \n",
    "    a, b = c1\n",
    "    return sqrt(a**2 + b**2)"
   ]
  },
  {
   "cell_type": "code",
   "execution_count": 15,
   "metadata": {},
   "outputs": [
    {
     "data": {
      "text/plain": [
       "5.0"
      ]
     },
     "execution_count": 15,
     "metadata": {},
     "output_type": "execute_result"
    }
   ],
   "source": [
    "modulo((4,-3))"
   ]
  },
  {
   "cell_type": "code",
   "execution_count": 18,
   "metadata": {},
   "outputs": [],
   "source": [
    "def conjugado(c1):\n",
    "    '''Esta función realiza el conjugado de un número complejo c1 en notación rectangular.\n",
    "       a: Parte Real\n",
    "       b: Parte Imaginaria\n",
    "       z: conjugado de c1\n",
    "       (a, b) --> z = (a, -b)'''\n",
    "    \n",
    "    a, b = c1\n",
    "    return (a, -1 * b)"
   ]
  },
  {
   "cell_type": "code",
   "execution_count": 19,
   "metadata": {},
   "outputs": [
    {
     "data": {
      "text/plain": [
       "(3, -2)"
      ]
     },
     "execution_count": 19,
     "metadata": {},
     "output_type": "execute_result"
    }
   ],
   "source": [
    "conjugado((3, 2))"
   ]
  },
  {
   "cell_type": "code",
   "execution_count": 53,
   "metadata": {},
   "outputs": [],
   "source": [
    "def convertir_cartesiana(c1):\n",
    "    '''Esta función realiza la conversión de un número complejo c1 en notación polar a notación cartesiana.\n",
    "       m: Módulo\n",
    "       o: Angulo\n",
    "       a: Parte Real\n",
    "       b: Parte Imaginaria '''\n",
    "    \n",
    "    m, o = c1\n",
    "    a = round(m * cos(o), 2)\n",
    "    b = round(m * sin(o), 2)\n",
    "    return (a, b)"
   ]
  },
  {
   "cell_type": "code",
   "execution_count": 102,
   "metadata": {},
   "outputs": [
    {
     "data": {
      "text/plain": [
       "(-5.0, -5.0)"
      ]
     },
     "execution_count": 102,
     "metadata": {},
     "output_type": "execute_result"
    }
   ],
   "source": [
    "convertir_cartesiana((7.0710678118654755, -2.356194490192345))"
   ]
  },
  {
   "cell_type": "code",
   "execution_count": 77,
   "metadata": {},
   "outputs": [],
   "source": [
    "def convertir_polar(c1):\n",
    "    '''Esta función realiza la conversión de un número complejo c1 en notación cartesiana a notación polar.\n",
    "       m: Módulo\n",
    "       o: Angulo\n",
    "       a: Parte Real\n",
    "       b: Parte Imaginaria '''\n",
    "    a, b = c1\n",
    "    m = modulo(c1)\n",
    "    try:\n",
    "        o = atan2(b , a)\n",
    "        return (m, o)\n",
    "    \n",
    "    except ZeroDivisionError:\n",
    "        print('Operación indefinida a / 0')\n",
    "        "
   ]
  },
  {
   "cell_type": "code",
   "execution_count": 100,
   "metadata": {},
   "outputs": [
    {
     "data": {
      "text/plain": [
       "(7.0710678118654755, -2.356194490192345)"
      ]
     },
     "execution_count": 100,
     "metadata": {},
     "output_type": "execute_result"
    }
   ],
   "source": [
    "convertir_polar((-5.0, -5.0))"
   ]
  },
  {
   "cell_type": "code",
   "execution_count": 93,
   "metadata": {},
   "outputs": [],
   "source": [
    "def fase(c1):\n",
    "    '''Esta funcion retorna la fase de un número complejo c1 si se encuentra en notación cartesiana'''\n",
    "    \n",
    "    a, b = c1\n",
    "    return pi/2 * signo(b) - atan(a / b)"
   ]
  },
  {
   "cell_type": "code",
   "execution_count": 101,
   "metadata": {},
   "outputs": [
    {
     "data": {
      "text/plain": [
       "-2.356194490192345"
      ]
     },
     "execution_count": 101,
     "metadata": {},
     "output_type": "execute_result"
    }
   ],
   "source": [
    "fase((-5, -5))"
   ]
  },
  {
   "cell_type": "code",
   "execution_count": 95,
   "metadata": {},
   "outputs": [],
   "source": [
    "def signo(y):\n",
    "    if y >= 0 : return 1\n",
    "    else: return -1"
   ]
  },
  {
   "cell_type": "code",
   "execution_count": null,
   "metadata": {},
   "outputs": [],
   "source": []
  }
 ],
 "metadata": {
  "kernelspec": {
   "display_name": "Python 3",
   "language": "python",
   "name": "python3"
  },
  "language_info": {
   "codemirror_mode": {
    "name": "ipython",
    "version": 3
   },
   "file_extension": ".py",
   "mimetype": "text/x-python",
   "name": "python",
   "nbconvert_exporter": "python",
   "pygments_lexer": "ipython3",
   "version": "3.7.3"
  }
 },
 "nbformat": 4,
 "nbformat_minor": 2
}
