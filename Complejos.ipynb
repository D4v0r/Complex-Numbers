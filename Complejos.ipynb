{
 "cells": [
  {
   "cell_type": "markdown",
   "metadata": {},
   "source": [
    "#  Librería computación Cuántica: Números complejos"
   ]
  },
  {
   "cell_type": "markdown",
   "metadata": {},
   "source": [
    "1. Suma.\n",
    "2. Producto.\n",
    "3. Resta.\n",
    "4. División.\n",
    "5. Módulo.\n",
    "6. Conjugado.\n",
    "7. Conversión entre representaciones polar y cartesiano.\n",
    "8. Retornar la fase de un número complejo.\n"
   ]
  },
  {
   "cell_type": "markdown",
   "metadata": {},
   "source": []
  },
  {
   "cell_type": "code",
   "execution_count": 92,
   "metadata": {},
   "outputs": [],
   "source": [
    "import numpy as np\n",
    "from matplotlib import pyplot as plt\n",
    "from math import sqrt, cos, sin, atan2, atan, pi"
   ]
  },
  {
   "cell_type": "code",
   "execution_count": 5,
   "metadata": {},
   "outputs": [],
   "source": [
    "def suma(c1, c2):\n",
    "    ''' Esta función realiza la suma de dos números complejos c1 y c2 en notación rectangular.\n",
    "        a: Parte Real\n",
    "        b: Parte Imaginaria\n",
    "        (a, b) + (c, d) --> (e, f)'''\n",
    "    \n",
    "    a, b = c1\n",
    "    c, d = c2\n",
    "    return (a + c, b + d)"
   ]
  },
  {
   "cell_type": "code",
   "execution_count": 5,
   "metadata": {},
   "outputs": [
    {
     "data": {
      "text/plain": [
       "(4, 6)"
      ]
     },
     "execution_count": 5,
     "metadata": {},
     "output_type": "execute_result"
    }
   ],
   "source": [
    "suma((1,2), (3,4))\n"
   ]
  },
  {
   "cell_type": "code",
   "execution_count": 15,
   "metadata": {},
   "outputs": [],
   "source": [
    "def producto(c1, c2):\n",
    "    '''Esta función realiza el producto de dos números complejos c1 y c2 en notación rectangular.\n",
    "       a: Parte Real\n",
    "       b: Parte Imaginaria\n",
    "       (a, b) * (c, d) --> (e, f)'''\n",
    "    \n",
    "    a, b = c1\n",
    "    c, d = c2\n",
    "    return (a * c - b * d, a * d + b * c)"
   ]
  },
  {
   "cell_type": "code",
   "execution_count": 6,
   "metadata": {},
   "outputs": [
    {
     "data": {
      "text/plain": [
       "(-5, 10)"
      ]
     },
     "execution_count": 6,
     "metadata": {},
     "output_type": "execute_result"
    }
   ],
   "source": [
    "producto((1,2), (3,4))"
   ]
  },
  {
   "cell_type": "code",
   "execution_count": 8,
   "metadata": {},
   "outputs": [],
   "source": [
    "def resta(c1, c2):\n",
    "    '''Esta función realiza la resta de dos números complejos c1 y c2 en notación rectangular.\n",
    "       a: Parte Real\n",
    "       b: Parte Imamginaria\n",
    "       (a, b) - (c, d) --> (e, f)'''\n",
    "    \n",
    "    a, b = c1\n",
    "    c, d = c2\n",
    "    return (a - c,  b - d)"
   ]
  },
  {
   "cell_type": "code",
   "execution_count": 12,
   "metadata": {},
   "outputs": [],
   "source": [
    "def division(c1, c2):\n",
    "    '''Esta función realiza la división de dos números complejos c1 y c2 en notación rectangular.\n",
    "       a, c: Parte Real\n",
    "       b, d: Parte Imaginaria\n",
    "       (a, b) / (c, d) --> (e, f)'''\n",
    "    \n",
    "    a, b = c1\n",
    "    c, d = c2\n",
    "    try:\n",
    "        return ((a*c + b*d) / (c**2 + d**2) , (c*b - a*d) / (c**2 + d**2) )\n",
    "    \n",
    "    except ZeroDivisionError:\n",
    "        print('Operación indefinida a / 0')\n",
    "        "
   ]
  },
  {
   "cell_type": "code",
   "execution_count": 13,
   "metadata": {},
   "outputs": [
    {
     "name": "stdout",
     "output_type": "stream",
     "text": [
      "Operación indefinida a / 0\n"
     ]
    }
   ],
   "source": [
    "division((1, 2),(0, 0))\n"
   ]
  },
  {
   "cell_type": "code",
   "execution_count": 14,
   "metadata": {},
   "outputs": [],
   "source": [
    "def modulo(c1):\n",
    "    '''Esta función realiza el módulo de un número complejo c1 en notación rectangular.\n",
    "       a: Parte Real\n",
    "       b: Parte Imaginaria\n",
    "       m: Módulo Real+\n",
    "       |c1| --> m '''\n",
    "    \n",
    "    a, b = c1\n",
    "    return sqrt(a**2 + b**2)"
   ]
  },
  {
   "cell_type": "code",
   "execution_count": 15,
   "metadata": {},
   "outputs": [
    {
     "data": {
      "text/plain": [
       "5.0"
      ]
     },
     "execution_count": 15,
     "metadata": {},
     "output_type": "execute_result"
    }
   ],
   "source": [
    "modulo((4,-3))"
   ]
  },
  {
   "cell_type": "code",
   "execution_count": 18,
   "metadata": {},
   "outputs": [],
   "source": [
    "def conjugado(c1):\n",
    "    '''Esta función realiza el conjugado de un número complejo c1 en notación rectangular.\n",
    "       a: Parte Real\n",
    "       b: Parte Imaginaria\n",
    "       z: conjugado de c1\n",
    "       (a, b) --> z = (a, -b)'''\n",
    "    \n",
    "    a, b = c1\n",
    "    return (a, -1 * b)"
   ]
  },
  {
   "cell_type": "code",
   "execution_count": 19,
   "metadata": {},
   "outputs": [
    {
     "data": {
      "text/plain": [
       "(3, -2)"
      ]
     },
     "execution_count": 19,
     "metadata": {},
     "output_type": "execute_result"
    }
   ],
   "source": [
    "conjugado((3, 2))"
   ]
  },
  {
   "cell_type": "code",
   "execution_count": 53,
   "metadata": {},
   "outputs": [],
   "source": [
    "def convertir_cartesiana(c1):\n",
    "    '''Esta función realiza la conversión de un número complejo c1 en notación polar a notación cartesiana.\n",
    "       m: Módulo\n",
    "       o: Angulo\n",
    "       a: Parte Real\n",
    "       b: Parte Imaginaria '''\n",
    "    \n",
    "    m, o = c1\n",
    "    a = round(m * cos(o), 2)\n",
    "    b = round(m * sin(o), 2)\n",
    "    return (a, b)"
   ]
  },
  {
   "cell_type": "code",
   "execution_count": 102,
   "metadata": {},
   "outputs": [
    {
     "data": {
      "text/plain": [
       "(-5.0, -5.0)"
      ]
     },
     "execution_count": 102,
     "metadata": {},
     "output_type": "execute_result"
    }
   ],
   "source": [
    "convertir_cartesiana((7.0710678118654755, -2.356194490192345))"
   ]
  },
  {
   "cell_type": "code",
   "execution_count": 77,
   "metadata": {},
   "outputs": [],
   "source": [
    "def convertir_polar(c1):\n",
    "    '''Esta función realiza la conversión de un número complejo c1 en notación cartesiana a notación polar.\n",
    "       m: Módulo\n",
    "       o: Angulo\n",
    "       a: Parte Real\n",
    "       b: Parte Imaginaria '''\n",
    "    a, b = c1\n",
    "    m = modulo(c1)\n",
    "    try:\n",
    "        o = atan2(b , a)\n",
    "        return (m, o)\n",
    "    \n",
    "    except ZeroDivisionError:\n",
    "        print('Operación indefinida a / 0')\n",
    "        "
   ]
  },
  {
   "cell_type": "code",
   "execution_count": 100,
   "metadata": {},
   "outputs": [
    {
     "data": {
      "text/plain": [
       "(7.0710678118654755, -2.356194490192345)"
      ]
     },
     "execution_count": 100,
     "metadata": {},
     "output_type": "execute_result"
    }
   ],
   "source": [
    "convertir_polar((-5.0, -5.0))"
   ]
  },
  {
   "cell_type": "code",
   "execution_count": 93,
   "metadata": {},
   "outputs": [],
   "source": [
    "def fase(c1):\n",
    "    '''Esta funcion retorna la fase de un número complejo c1 si se encuentra en notación cartesiana'''\n",
    "    \n",
    "    a, b = c1\n",
    "    return pi/2 * signo(b) - atan(a / b)"
   ]
  },
  {
   "cell_type": "code",
   "execution_count": 101,
   "metadata": {},
   "outputs": [
    {
     "data": {
      "text/plain": [
       "-2.356194490192345"
      ]
     },
     "execution_count": 101,
     "metadata": {},
     "output_type": "execute_result"
    }
   ],
   "source": [
    "fase((-5, -5))"
   ]
  },
  {
   "cell_type": "code",
   "execution_count": 95,
   "metadata": {},
   "outputs": [],
   "source": [
    "def signo(y):\n",
    "    if y >= 0 : return 1\n",
    "    else: return -1"
   ]
  },
  {
   "cell_type": "markdown",
   "metadata": {},
   "source": [
    "1. Adición de vectores complejos.\n",
    "2. Inverso aditivo de vectores complejos.\n",
    "3. Multiplicación escalar de vectores complejos.\n",
    "4. Adición de matrices complejos.\n",
    "5. Inverso aditivo de matrices complejos.\n",
    "6. Multiplicación escalar de matrices complejas.\n",
    "7. Matriz transpuesta\n",
    "8. Matriz conjugada\n",
    "9. Matriz adjunta\n",
    "10. Función para calcular la \"acción\" de una matriz sobre un vector.\n",
    "11. Norma de matrices\n",
    "12. Distancia entre matrices\n",
    "13. Revisar si es unitaria\n",
    "14. Revisar si es Hermitian\n",
    "15. Producto tensor."
   ]
  },
  {
   "cell_type": "code",
   "execution_count": 7,
   "metadata": {},
   "outputs": [],
   "source": [
    "def suma_de_vectores(vectorA, vectorB):\n",
    "    if len(vectorA) != len(vectorB): raise 'Esta operacion esta indefinida'\n",
    "    else:\n",
    "        vectorC = []\n",
    "        for elemento in zip(vectorA, vectorB):\n",
    "            vectorC.append(suma(elemento[0], elemento[1]))\n",
    "    return vectorC\n",
    "            "
   ]
  },
  {
   "cell_type": "code",
   "execution_count": 9,
   "metadata": {},
   "outputs": [
    {
     "data": {
      "text/plain": [
       "[(4, 6)]"
      ]
     },
     "execution_count": 9,
     "metadata": {},
     "output_type": "execute_result"
    }
   ],
   "source": [
    "suma_de_vectores([(1,2)], [(3,4)])\n"
   ]
  },
  {
   "cell_type": "code",
   "execution_count": 12,
   "metadata": {},
   "outputs": [],
   "source": [
    "def vector_inverso_aditivo(vectorA):\n",
    "    vectorB = [ (vi[0]*-1, vi[1]*-1) for vi in vectorA]\n",
    "    return vectorB\n",
    "\n",
    "    "
   ]
  },
  {
   "cell_type": "code",
   "execution_count": 14,
   "metadata": {},
   "outputs": [
    {
     "data": {
      "text/plain": [
       "[(-4, -6), (-5, -7)]"
      ]
     },
     "execution_count": 14,
     "metadata": {},
     "output_type": "execute_result"
    }
   ],
   "source": [
    "vector_inverso_aditivo([(4, 6), (5, 7)])\n"
   ]
  },
  {
   "cell_type": "code",
   "execution_count": 16,
   "metadata": {},
   "outputs": [],
   "source": [
    "def vector_x_escalar(vectorA, escalar):\n",
    "    vectorB = [ producto(elemento, (escalar, 0)) for elemento in vectorA]\n",
    "    return vectorB\n"
   ]
  },
  {
   "cell_type": "code",
   "execution_count": 17,
   "metadata": {},
   "outputs": [
    {
     "data": {
      "text/plain": [
       "[(-8, -12), (-10, -14)]"
      ]
     },
     "execution_count": 17,
     "metadata": {},
     "output_type": "execute_result"
    }
   ],
   "source": [
    "vector_x_escalar([(-4, -6), (-5, -7)], 2)\n"
   ]
  },
  {
   "cell_type": "code",
   "execution_count": 18,
   "metadata": {},
   "outputs": [],
   "source": [
    "def suma_de_matrices(matrizA, matrizB):\n",
    "    if len(matrizA) != len(matrizB): raise 'Operacion Indefinida'\n",
    "    else:\n",
    "        matrizC = []\n",
    "        for elemento in zip(matrizA, matrizB):\n",
    "            matrizC.append(suma_de_vectores(elemento[0], elemento[1]))\n",
    "    return matrizC"
   ]
  },
  {
   "cell_type": "code",
   "execution_count": 21,
   "metadata": {},
   "outputs": [
    {
     "data": {
      "text/plain": [
       "[[(4, 6), (1, 1)], [(4, 6), (1, 1)]]"
      ]
     },
     "execution_count": 21,
     "metadata": {},
     "output_type": "execute_result"
    }
   ],
   "source": [
    "suma_de_matrices([[(1,2), (1, 1)],[(3,4), (0,0)]],[[(3,4), (0, 0)],[(1,2), (1,1)]])\n"
   ]
  },
  {
   "cell_type": "code",
   "execution_count": 24,
   "metadata": {},
   "outputs": [],
   "source": [
    "def matriz_inverso_aditivo(matrizA):\n",
    "    matrizB = [ vector_inverso_aditivo(vector) for vector in matrizA]\n",
    "    return matrizB\n"
   ]
  },
  {
   "cell_type": "code",
   "execution_count": 25,
   "metadata": {},
   "outputs": [
    {
     "data": {
      "text/plain": [
       "[[(-4, -6), (-1, -1)], [(-4, -6), (-1, -1)]]"
      ]
     },
     "execution_count": 25,
     "metadata": {},
     "output_type": "execute_result"
    }
   ],
   "source": [
    "matriz_inverso_aditivo([[(4, 6), (1, 1)], [(4, 6), (1, 1)]])"
   ]
  },
  {
   "cell_type": "code",
   "execution_count": 26,
   "metadata": {},
   "outputs": [],
   "source": [
    "def matriz_x_escalar(matrizA, escalar):\n",
    "    matrizB = [vector_x_escalar(vector, escalar) for vector in matrizA]\n",
    "    return matrizB"
   ]
  },
  {
   "cell_type": "code",
   "execution_count": 27,
   "metadata": {},
   "outputs": [
    {
     "data": {
      "text/plain": [
       "[[(0, 0), (0, 0)], [(0, 0), (0, 0)]]"
      ]
     },
     "execution_count": 27,
     "metadata": {},
     "output_type": "execute_result"
    }
   ],
   "source": [
    "matriz_x_escalar([[(-4, -6), (-1, -1)], [(-4, -6), (-1, -1)]], 0)"
   ]
  },
  {
   "cell_type": "code",
   "execution_count": null,
   "metadata": {},
   "outputs": [],
   "source": []
  }
 ],
 "metadata": {
  "kernelspec": {
   "display_name": "Python 3",
   "language": "python",
   "name": "python3"
  },
  "language_info": {
   "codemirror_mode": {
    "name": "ipython",
    "version": 3
   },
   "file_extension": ".py",
   "mimetype": "text/x-python",
   "name": "python",
   "nbconvert_exporter": "python",
   "pygments_lexer": "ipython3",
   "version": "3.7.3"
  }
 },
 "nbformat": 4,
 "nbformat_minor": 2
}
